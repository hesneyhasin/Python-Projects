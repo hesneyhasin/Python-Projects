{
  "nbformat": 4,
  "nbformat_minor": 0,
  "metadata": {
    "colab": {
      "provenance": []
    },
    "kernelspec": {
      "name": "python3",
      "display_name": "Python 3"
    },
    "language_info": {
      "name": "python"
    }
  },
  "cells": [
    {
      "cell_type": "code",
      "metadata": {
        "colab": {
          "base_uri": "https://localhost:8080/"
        },
        "id": "71560c25",
        "outputId": "39dd7015-220f-4cf8-8f62-110cff272dd4"
      },
      "source": [
        "!pip install pytubefix"
      ],
      "execution_count": 9,
      "outputs": [
        {
          "output_type": "stream",
          "name": "stdout",
          "text": [
            "Collecting pytubefix\n",
            "  Downloading pytubefix-9.5.1-py3-none-any.whl.metadata (5.4 kB)\n",
            "Requirement already satisfied: aiohttp>=3.12.13 in /usr/local/lib/python3.12/dist-packages (from pytubefix) (3.12.15)\n",
            "Requirement already satisfied: aiohappyeyeballs>=2.5.0 in /usr/local/lib/python3.12/dist-packages (from aiohttp>=3.12.13->pytubefix) (2.6.1)\n",
            "Requirement already satisfied: aiosignal>=1.4.0 in /usr/local/lib/python3.12/dist-packages (from aiohttp>=3.12.13->pytubefix) (1.4.0)\n",
            "Requirement already satisfied: attrs>=17.3.0 in /usr/local/lib/python3.12/dist-packages (from aiohttp>=3.12.13->pytubefix) (25.3.0)\n",
            "Requirement already satisfied: frozenlist>=1.1.1 in /usr/local/lib/python3.12/dist-packages (from aiohttp>=3.12.13->pytubefix) (1.7.0)\n",
            "Requirement already satisfied: multidict<7.0,>=4.5 in /usr/local/lib/python3.12/dist-packages (from aiohttp>=3.12.13->pytubefix) (6.6.4)\n",
            "Requirement already satisfied: propcache>=0.2.0 in /usr/local/lib/python3.12/dist-packages (from aiohttp>=3.12.13->pytubefix) (0.3.2)\n",
            "Requirement already satisfied: yarl<2.0,>=1.17.0 in /usr/local/lib/python3.12/dist-packages (from aiohttp>=3.12.13->pytubefix) (1.20.1)\n",
            "Requirement already satisfied: typing-extensions>=4.2 in /usr/local/lib/python3.12/dist-packages (from aiosignal>=1.4.0->aiohttp>=3.12.13->pytubefix) (4.15.0)\n",
            "Requirement already satisfied: idna>=2.0 in /usr/local/lib/python3.12/dist-packages (from yarl<2.0,>=1.17.0->aiohttp>=3.12.13->pytubefix) (3.10)\n",
            "Downloading pytubefix-9.5.1-py3-none-any.whl (768 kB)\n",
            "\u001b[?25l   \u001b[90m━━━━━━━━━━━━━━━━━━━━━━━━━━━━━━━━━━━━━━━━\u001b[0m \u001b[32m0.0/768.9 kB\u001b[0m \u001b[31m?\u001b[0m eta \u001b[36m-:--:--\u001b[0m\r\u001b[2K   \u001b[91m━━━━━━━━━━━━━━━━━━━━━━━━━━━━━━━━━━━━━━━\u001b[0m\u001b[91m╸\u001b[0m \u001b[32m768.0/768.9 kB\u001b[0m \u001b[31m28.0 MB/s\u001b[0m eta \u001b[36m0:00:01\u001b[0m\r\u001b[2K   \u001b[90m━━━━━━━━━━━━━━━━━━━━━━━━━━━━━━━━━━━━━━━━\u001b[0m \u001b[32m768.9/768.9 kB\u001b[0m \u001b[31m19.5 MB/s\u001b[0m eta \u001b[36m0:00:00\u001b[0m\n",
            "\u001b[?25hInstalling collected packages: pytubefix\n",
            "Successfully installed pytubefix-9.5.1\n"
          ]
        }
      ]
    },
    {
      "cell_type": "code",
      "source": [
        "from pytubefix import YouTube"
      ],
      "metadata": {
        "id": "Xy2b6K4DQvMa"
      },
      "execution_count": 10,
      "outputs": []
    },
    {
      "cell_type": "code",
      "source": [
        "link = input(\"Enter Link of Youtube Video: \")\n",
        "yt = YouTube(link)"
      ],
      "metadata": {
        "colab": {
          "base_uri": "https://localhost:8080/"
        },
        "id": "su1jE7ehQxIz",
        "outputId": "9bad4e69-bac1-4a3c-8428-ca030387e01a"
      },
      "execution_count": 11,
      "outputs": [
        {
          "name": "stdout",
          "output_type": "stream",
          "text": [
            "Enter Link of Youtube Video: https://www.youtube.com/watch?v=760rcdkYPX0\n"
          ]
        }
      ]
    },
    {
      "cell_type": "code",
      "source": [
        "# To print title\n",
        "print(\"Title :\", yt.title)\n",
        "# To get number of views\n",
        "print(\"Views :\", yt.views)\n",
        "# To get the length of video\n",
        "print(\"Duration :\", yt.length)\n",
        "# To get description\n",
        "print(\"Description :\", yt.description)\n",
        "# To get ratings\n",
        "print(\"Ratings :\", yt.rating)"
      ],
      "metadata": {
        "colab": {
          "base_uri": "https://localhost:8080/"
        },
        "id": "G_ckgJ4ZQz5t",
        "outputId": "30894d0e-ee20-4037-b6e8-8f1fadc82074"
      },
      "execution_count": 12,
      "outputs": [
        {
          "output_type": "stream",
          "name": "stdout",
          "text": [
            "Title : Typhoon Family | Official Trailer | Netflix [ENG SUB]\n",
            "Views : 90025\n",
            "Duration : 72\n",
            "Description : Typhoon Family is coming October 11, only on Netflix: https://www.netflix.com/title/82024856\r\n",
            "\r\n",
            "Amid the 1997 financial crisis, a carefree son inherits his father's struggling business — growing from wild youth to rookie boss as he learns adulthood.\r\n",
            "\r\n",
            "Typhoon Family | OCTOBER 11, ONLY ON NETFLIX\r\n",
            "\r\n",
            "Subscribe to Netflix K-Content: https://bit.ly/2IiIXqV\r\n",
            "Follow Netflix K-Content on Instagram, Twitter, and Tiktok: @netflixkcontent\r\n",
            "\r\n",
            "#TyphoonFamily #KContent\r\n",
            "\r\n",
            "ABOUT NETFLIX K-CONTENT\r\n",
            "\r\n",
            "Netflix K-Content is the channel that takes you deeper into all types of Netflix Korean Content you LOVE. Whether you’re in the mood for some fun with the stars, want to relive your favorite moments, need help deciding what to watch next based on your personal taste, or commiserate with like-minded fans, you’re in the right place.\r\n",
            "\r\n",
            "All things NETFLIX K-CONTENT.\r\n",
            "\r\n",
            "*Shows featured might not be available in all markets.\n",
            "Ratings : None\n"
          ]
        }
      ]
    },
    {
      "cell_type": "code",
      "source": [
        "stream = yt.streams.get_highest_resolution()\n",
        "stream.download()\n",
        "print(\"Download completed!!\")"
      ],
      "metadata": {
        "colab": {
          "base_uri": "https://localhost:8080/"
        },
        "id": "6KqzDCSQQ2eP",
        "outputId": "41430051-8caf-43ed-89a9-ee6e25e6d345"
      },
      "execution_count": 14,
      "outputs": [
        {
          "output_type": "stream",
          "name": "stdout",
          "text": [
            "Download completed!!\n"
          ]
        }
      ]
    }
  ]
}